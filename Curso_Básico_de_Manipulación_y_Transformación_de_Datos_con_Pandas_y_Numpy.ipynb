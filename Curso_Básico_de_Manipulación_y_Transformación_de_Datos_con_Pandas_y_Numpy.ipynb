{
  "nbformat": 4,
  "nbformat_minor": 0,
  "metadata": {
    "colab": {
      "name": "Curso Básico de Manipulación y Transformación de Datos con Pandas y Numpy.ipynb",
      "provenance": [],
      "collapsed_sections": [],
      "authorship_tag": "ABX9TyMfbA9+TJjc/vFcpuPZxpdu",
      "include_colab_link": true
    },
    "kernelspec": {
      "name": "python3",
      "display_name": "Python 3"
    },
    "language_info": {
      "name": "python"
    }
  },
  "cells": [
    {
      "cell_type": "markdown",
      "metadata": {
        "id": "view-in-github",
        "colab_type": "text"
      },
      "source": [
        "<a href=\"https://colab.research.google.com/github/alfonsoamt/Curso-Pandas-y-Numpy/blob/main/Curso_B%C3%A1sico_de_Manipulaci%C3%B3n_y_Transformaci%C3%B3n_de_Datos_con_Pandas_y_Numpy.ipynb\" target=\"_parent\"><img src=\"https://colab.research.google.com/assets/colab-badge.svg\" alt=\"Open In Colab\"/></a>"
      ]
    },
    {
      "cell_type": "markdown",
      "source": [
        "#  **¿Por qué NumPy y Pandas?**\n",
        "\n",
        "## **¿Por qué NumPy?**\n",
        "Es una librería enfocada al cálculo númerico y manejo de Arrays.\n",
        "* Es muy veloz, hasta 50 veces más rápido que usar una lista de Python o C.\n",
        "* Optimiza el almacenamiento en memoria.\n",
        "* Además, maneja distintos tipos de datos.\n",
        "\n",
        "Es una librería muy poderosa, se pueden crear redes neuronales desde cero.\n",
        "\n",
        "## **¿Por qué Pandas?**\n",
        "\n",
        "Pandas está enfocada a la manipulación y análisis de datos.\n",
        "* Al estar construido sobre NumPy veloz.\n",
        "* Requiere poco código para manipular los datos.\n",
        "* Soporta múltiples formatos de archivos.\n",
        "* Ordena los datos en una alienación inteligente.\n",
        "\n",
        "Se pueden manejar grandes cantidades de datos, hacer analítica y crear dahsboards.\n",
        "\n",
        "La forma de importar estas librerías es de la siguiente manera:\n",
        "\n",
        "\n",
        "```\n",
        "import numpy as np\n",
        "import pandas as pd\n",
        "```\n",
        "\n"
      ],
      "metadata": {
        "id": "UNCfS_DWUKhU"
      }
    },
    {
      "cell_type": "code",
      "execution_count": 1,
      "metadata": {
        "id": "0eeaiF6zQpoT"
      },
      "outputs": [],
      "source": [
        "import numpy as np\n",
        "import pandas as pd"
      ]
    },
    {
      "cell_type": "markdown",
      "source": [
        "## **NumPy Array**\n",
        "El array es el principal objeto de la librería. Representa datos de manera estructurada y se puede acceder a ellos a traves del indexado, a un dato específico o un grupo de muchos datos específicos."
      ],
      "metadata": {
        "id": "UjI7xfWVaEH0"
      }
    },
    {
      "cell_type": "code",
      "source": [
        "lista = [1, 2 , 3, 4, 5, 6, 7, 8, 9]\n",
        "lista"
      ],
      "metadata": {
        "colab": {
          "base_uri": "https://localhost:8080/"
        },
        "id": "8pY59mZMWSXG",
        "outputId": "21e72c4f-1566-466e-a9e5-e0c69bc4f25f"
      },
      "execution_count": 2,
      "outputs": [
        {
          "output_type": "execute_result",
          "data": {
            "text/plain": [
              "[1, 2, 3, 4, 5, 6, 7, 8, 9]"
            ]
          },
          "metadata": {},
          "execution_count": 2
        }
      ]
    },
    {
      "cell_type": "code",
      "source": [
        "arr = np.array(lista)"
      ],
      "metadata": {
        "id": "rIMRwK2UbbYu"
      },
      "execution_count": 3,
      "outputs": []
    },
    {
      "cell_type": "code",
      "source": [
        "type(arr)"
      ],
      "metadata": {
        "colab": {
          "base_uri": "https://localhost:8080/"
        },
        "id": "mapS1cscbeV7",
        "outputId": "dc11e291-cf67-47ba-9661-7b8ea31fb582"
      },
      "execution_count": 4,
      "outputs": [
        {
          "output_type": "execute_result",
          "data": {
            "text/plain": [
              "numpy.ndarray"
            ]
          },
          "metadata": {},
          "execution_count": 4
        }
      ]
    },
    {
      "cell_type": "code",
      "source": [
        "matriz = [[1, 2, 3], [4, 5, 6], [7, 8, 9]]\n",
        "matriz = np.array(matriz)\n",
        "matriz"
      ],
      "metadata": {
        "colab": {
          "base_uri": "https://localhost:8080/"
        },
        "id": "8iFW8WklbfLf",
        "outputId": "4080234e-7480-405a-d5b0-b668fced9956"
      },
      "execution_count": 5,
      "outputs": [
        {
          "output_type": "execute_result",
          "data": {
            "text/plain": [
              "array([[1, 2, 3],\n",
              "       [4, 5, 6],\n",
              "       [7, 8, 9]])"
            ]
          },
          "metadata": {},
          "execution_count": 5
        }
      ]
    },
    {
      "cell_type": "code",
      "source": [
        "# El indexado nos permite acceder a los elementos de los array y matrices\n",
        "# Los elementos se emepiezan a contar desde 0.\n",
        "arr[0]"
      ],
      "metadata": {
        "colab": {
          "base_uri": "https://localhost:8080/"
        },
        "id": "slTuLilrdRVy",
        "outputId": "ddeb354c-d92b-4da6-9536-d2caa028241b"
      },
      "execution_count": 6,
      "outputs": [
        {
          "output_type": "execute_result",
          "data": {
            "text/plain": [
              "1"
            ]
          },
          "metadata": {},
          "execution_count": 6
        }
      ]
    },
    {
      "cell_type": "code",
      "source": [
        "# Es posible operar directamente con los elementos.\n",
        "arr[0] + arr[5]"
      ],
      "metadata": {
        "colab": {
          "base_uri": "https://localhost:8080/"
        },
        "id": "WAZqwLCUdydB",
        "outputId": "3125a714-4caf-4418-950e-866d36884d95"
      },
      "execution_count": 7,
      "outputs": [
        {
          "output_type": "execute_result",
          "data": {
            "text/plain": [
              "7"
            ]
          },
          "metadata": {},
          "execution_count": 7
        }
      ]
    },
    {
      "cell_type": "code",
      "source": [
        "# En el caso de las matrices al indezar una posición se regresa el array de dicha posición.\n",
        "matriz[0]"
      ],
      "metadata": {
        "colab": {
          "base_uri": "https://localhost:8080/"
        },
        "id": "yRTPnFZmd45B",
        "outputId": "dc58df91-87d5-48f7-95b3-a4d232c07e59"
      },
      "execution_count": 8,
      "outputs": [
        {
          "output_type": "execute_result",
          "data": {
            "text/plain": [
              "array([1, 2, 3])"
            ]
          },
          "metadata": {},
          "execution_count": 8
        }
      ]
    },
    {
      "cell_type": "code",
      "source": [
        "# Para seleccionar un solo elemento de la matriz se especifica la posición del elemento separada por comas.\n",
        "matriz[0, 2]"
      ],
      "metadata": {
        "colab": {
          "base_uri": "https://localhost:8080/"
        },
        "id": "_S6kxjE1d98K",
        "outputId": "d243ed6b-5ce0-4a2d-e82b-32666c865ca1"
      },
      "execution_count": 9,
      "outputs": [
        {
          "output_type": "execute_result",
          "data": {
            "text/plain": [
              "3"
            ]
          },
          "metadata": {},
          "execution_count": 9
        }
      ]
    },
    {
      "cell_type": "code",
      "source": [
        "# El slicing nos permite extraer varios datos, tiene un comienzo y un final.\n",
        "# En este ejemplo se está extrayendo datos desde la posición 1 hasta la 5. [1:6].\n",
        "arr[1:6]"
      ],
      "metadata": {
        "colab": {
          "base_uri": "https://localhost:8080/"
        },
        "id": "NnaFfzgJeC2N",
        "outputId": "ee16439d-62d4-4fa1-8206-bf00919a5242"
      },
      "execution_count": 10,
      "outputs": [
        {
          "output_type": "execute_result",
          "data": {
            "text/plain": [
              "array([2, 3, 4, 5, 6])"
            ]
          },
          "metadata": {},
          "execution_count": 10
        }
      ]
    },
    {
      "cell_type": "code",
      "source": [
        "# Si no se ingresa el valor de Start se toma el incio como la posición 0.\n",
        "arr[:6]"
      ],
      "metadata": {
        "colab": {
          "base_uri": "https://localhost:8080/"
        },
        "id": "Zfo0it13io2m",
        "outputId": "ca0fca25-9a23-4892-e3f8-78ca4e585797"
      },
      "execution_count": 11,
      "outputs": [
        {
          "output_type": "execute_result",
          "data": {
            "text/plain": [
              "array([1, 2, 3, 4, 5, 6])"
            ]
          },
          "metadata": {},
          "execution_count": 11
        }
      ]
    },
    {
      "cell_type": "code",
      "source": [
        "# En cambio si no se le da una posción de End se regresan todos los elementos hasta el final del array.\n",
        "arr[2:]"
      ],
      "metadata": {
        "colab": {
          "base_uri": "https://localhost:8080/"
        },
        "id": "8Oz7T9fdi0q2",
        "outputId": "b0282b29-4dbd-4ed5-9c72-69de066d2800"
      },
      "execution_count": 12,
      "outputs": [
        {
          "output_type": "execute_result",
          "data": {
            "text/plain": [
              "array([3, 4, 5, 6, 7, 8, 9])"
            ]
          },
          "metadata": {},
          "execution_count": 12
        }
      ]
    },
    {
      "cell_type": "code",
      "source": [
        "# También se puede trabajar por pasos.\n",
        "# En este ejemplo de 3 en 3.\n",
        "arr[::3]\n",
        "# Regresa la posición 0, 0 + 3, 3 + 3 y como no hay posición 6 + 3, no se regrese nada."
      ],
      "metadata": {
        "colab": {
          "base_uri": "https://localhost:8080/"
        },
        "id": "6G3DimVyjCJ_",
        "outputId": "19a9e7db-9998-46c0-d5c9-89f5a5da6d53"
      },
      "execution_count": 13,
      "outputs": [
        {
          "output_type": "execute_result",
          "data": {
            "text/plain": [
              "array([1, 4, 7])"
            ]
          },
          "metadata": {},
          "execution_count": 13
        }
      ]
    },
    {
      "cell_type": "code",
      "source": [
        "# Cuando se le asigna un valor negativo se regresan los valores comenzando desde la última posición del array.\n",
        "arr[-1]"
      ],
      "metadata": {
        "colab": {
          "base_uri": "https://localhost:8080/"
        },
        "id": "JOJW5wczjXog",
        "outputId": "788d5425-2408-4186-a8b1-8f00c4b0f6cb"
      },
      "execution_count": 14,
      "outputs": [
        {
          "output_type": "execute_result",
          "data": {
            "text/plain": [
              "9"
            ]
          },
          "metadata": {},
          "execution_count": 14
        }
      ]
    },
    {
      "cell_type": "code",
      "source": [
        "arr[-3:]"
      ],
      "metadata": {
        "colab": {
          "base_uri": "https://localhost:8080/"
        },
        "id": "UttGDCLtjjNx",
        "outputId": "bb5dcb0a-c13b-4eb0-f062-c7a2e21962df"
      },
      "execution_count": 15,
      "outputs": [
        {
          "output_type": "execute_result",
          "data": {
            "text/plain": [
              "array([7, 8, 9])"
            ]
          },
          "metadata": {},
          "execution_count": 15
        }
      ]
    },
    {
      "cell_type": "code",
      "source": [
        "# Para el caso de las matrices sucede algo similar.\n",
        "# Para acceder a los valores a nivel de filas.\n",
        "matriz[1:]"
      ],
      "metadata": {
        "colab": {
          "base_uri": "https://localhost:8080/"
        },
        "id": "sH6cXwYkjnmF",
        "outputId": "eec3f3ff-b410-41e9-96e7-2c09d6e39764"
      },
      "execution_count": 16,
      "outputs": [
        {
          "output_type": "execute_result",
          "data": {
            "text/plain": [
              "array([[4, 5, 6],\n",
              "       [7, 8, 9]])"
            ]
          },
          "metadata": {},
          "execution_count": 16
        }
      ]
    },
    {
      "cell_type": "code",
      "source": [
        "# Para acceder a los valores a nivel de filas y columnas.\n",
        "matriz[1:, 0:2]"
      ],
      "metadata": {
        "colab": {
          "base_uri": "https://localhost:8080/"
        },
        "id": "NoLCCa0NjyUV",
        "outputId": "0dfbb315-d527-4866-b936-94a4e89a15f4"
      },
      "execution_count": 17,
      "outputs": [
        {
          "output_type": "execute_result",
          "data": {
            "text/plain": [
              "array([[4, 5],\n",
              "       [7, 8]])"
            ]
          },
          "metadata": {},
          "execution_count": 17
        }
      ]
    },
    {
      "cell_type": "markdown",
      "source": [
        "## **Tipos de datos**\n",
        "Los arrays de NumPy solo pueden contener un tipo de dato, ya que esto es lo que le confiere las ventajas de la optimización de memoria."
      ],
      "metadata": {
        "id": "B61RZbdRnKKJ"
      }
    },
    {
      "cell_type": "code",
      "source": [
        "# Podemos conocer el tipo de datos del array consultando la propiedad .dtype.\n",
        "arr = np.array([1, 2, 3, 4])\n",
        "arr.dtype"
      ],
      "metadata": {
        "colab": {
          "base_uri": "https://localhost:8080/"
        },
        "id": "Ye5QMmqAj5kk",
        "outputId": "3a0c3de5-584d-4b1a-b4a8-bdc208a4133e"
      },
      "execution_count": 18,
      "outputs": [
        {
          "output_type": "execute_result",
          "data": {
            "text/plain": [
              "dtype('int64')"
            ]
          },
          "metadata": {},
          "execution_count": 18
        }
      ]
    },
    {
      "cell_type": "code",
      "source": [
        "# Si queremos usar otro tipo de dato lo podemos definir en la declaración del array.\n",
        "arr = np.array([1, 2, 3, 4], dtype = 'float64')\n",
        "arr.dtype"
      ],
      "metadata": {
        "colab": {
          "base_uri": "https://localhost:8080/"
        },
        "id": "47eJAspJo-Sb",
        "outputId": "d99a67d3-ed98-408e-c79e-68f5b4df6555"
      },
      "execution_count": 19,
      "outputs": [
        {
          "output_type": "execute_result",
          "data": {
            "text/plain": [
              "dtype('float64')"
            ]
          },
          "metadata": {},
          "execution_count": 19
        }
      ]
    },
    {
      "cell_type": "code",
      "source": [
        "# Ahora vemos que los valores están con punto decimal.\n",
        "arr"
      ],
      "metadata": {
        "colab": {
          "base_uri": "https://localhost:8080/"
        },
        "id": "4491MWoBpbLz",
        "outputId": "148fa35a-b35e-4921-b79f-c5729a2ea5a7"
      },
      "execution_count": 20,
      "outputs": [
        {
          "output_type": "execute_result",
          "data": {
            "text/plain": [
              "array([1., 2., 3., 4.])"
            ]
          },
          "metadata": {},
          "execution_count": 20
        }
      ]
    },
    {
      "cell_type": "code",
      "source": [
        "# Si ya se tiene el array definido se usa el método .astype() para convertir el tipo de dato.\n",
        "arr = np.array([1, 2, 3, 4])\n",
        "arr = arr.astype(np.float64)\n",
        "arr"
      ],
      "metadata": {
        "colab": {
          "base_uri": "https://localhost:8080/"
        },
        "id": "5JKz_lsxpe5I",
        "outputId": "a407e407-452c-4ac4-f536-1d5dbc9b1fdd"
      },
      "execution_count": 21,
      "outputs": [
        {
          "output_type": "execute_result",
          "data": {
            "text/plain": [
              "array([1., 2., 3., 4.])"
            ]
          },
          "metadata": {},
          "execution_count": 21
        }
      ]
    },
    {
      "cell_type": "code",
      "source": [
        "# También se puede cambiar a tipo booleano recordando que los números diferentes de 0 se convierten en True.\n",
        "arr = np.array([0, 1, 2, 3, 4])\n",
        "arr = arr.astype(np.bool_)\n",
        "arr"
      ],
      "metadata": {
        "colab": {
          "base_uri": "https://localhost:8080/"
        },
        "id": "kl9kAqs-qCg1",
        "outputId": "114b7879-0372-4696-fe8e-1eec718adbe2"
      },
      "execution_count": 22,
      "outputs": [
        {
          "output_type": "execute_result",
          "data": {
            "text/plain": [
              "array([False,  True,  True,  True,  True])"
            ]
          },
          "metadata": {},
          "execution_count": 22
        }
      ]
    },
    {
      "cell_type": "code",
      "source": [
        "# También podemos convertir los datos en tipo string.\n",
        "arr = np.array([0, 1, 2, 3, 4])\n",
        "arr = arr.astype(np.string_)\n",
        "arr"
      ],
      "metadata": {
        "colab": {
          "base_uri": "https://localhost:8080/"
        },
        "id": "WWpIHP2KqS_0",
        "outputId": "e8119941-b87a-4a08-dd38-1706d7e04832"
      },
      "execution_count": 23,
      "outputs": [
        {
          "output_type": "execute_result",
          "data": {
            "text/plain": [
              "array([b'0', b'1', b'2', b'3', b'4'], dtype='|S21')"
            ]
          },
          "metadata": {},
          "execution_count": 23
        }
      ]
    },
    {
      "cell_type": "code",
      "source": [
        "# De igual forma se puede pasar de string a numero.\n",
        "arr = np.array(['0', '1', '2', '3', '4'])\n",
        "arr = arr.astype(np.int8)\n",
        "arr"
      ],
      "metadata": {
        "colab": {
          "base_uri": "https://localhost:8080/"
        },
        "id": "6e66NQnuqx3l",
        "outputId": "547f3e79-c8a0-4913-af63-b1e55eded619"
      },
      "execution_count": 24,
      "outputs": [
        {
          "output_type": "execute_result",
          "data": {
            "text/plain": [
              "array([0, 1, 2, 3, 4], dtype=int8)"
            ]
          },
          "metadata": {},
          "execution_count": 24
        }
      ]
    },
    {
      "cell_type": "code",
      "source": [
        "# Si un elemento no es de tipo número el método falla.\n",
        "arr = np.array(['hola','0', '1', '2', '3', '4'])\n",
        "arr = arr.astype(np.int8)\n",
        "arr"
      ],
      "metadata": {
        "colab": {
          "base_uri": "https://localhost:8080/",
          "height": 225
        },
        "id": "vzthGfiirAW7",
        "outputId": "bdf572e0-986f-4dca-b74c-6163e153709c"
      },
      "execution_count": 25,
      "outputs": [
        {
          "output_type": "error",
          "ename": "ValueError",
          "evalue": "ignored",
          "traceback": [
            "\u001b[0;31m---------------------------------------------------------------------------\u001b[0m",
            "\u001b[0;31mValueError\u001b[0m                                Traceback (most recent call last)",
            "\u001b[0;32m<ipython-input-25-513472f3eddd>\u001b[0m in \u001b[0;36m<module>\u001b[0;34m()\u001b[0m\n\u001b[1;32m      1\u001b[0m \u001b[0;31m# Si un elemento no es de tipo número el método falla.\u001b[0m\u001b[0;34m\u001b[0m\u001b[0;34m\u001b[0m\u001b[0;34m\u001b[0m\u001b[0m\n\u001b[1;32m      2\u001b[0m \u001b[0marr\u001b[0m \u001b[0;34m=\u001b[0m \u001b[0mnp\u001b[0m\u001b[0;34m.\u001b[0m\u001b[0marray\u001b[0m\u001b[0;34m(\u001b[0m\u001b[0;34m[\u001b[0m\u001b[0;34m'hola'\u001b[0m\u001b[0;34m,\u001b[0m\u001b[0;34m'0'\u001b[0m\u001b[0;34m,\u001b[0m \u001b[0;34m'1'\u001b[0m\u001b[0;34m,\u001b[0m \u001b[0;34m'2'\u001b[0m\u001b[0;34m,\u001b[0m \u001b[0;34m'3'\u001b[0m\u001b[0;34m,\u001b[0m \u001b[0;34m'4'\u001b[0m\u001b[0;34m]\u001b[0m\u001b[0;34m)\u001b[0m\u001b[0;34m\u001b[0m\u001b[0;34m\u001b[0m\u001b[0m\n\u001b[0;32m----> 3\u001b[0;31m \u001b[0marr\u001b[0m \u001b[0;34m=\u001b[0m \u001b[0marr\u001b[0m\u001b[0;34m.\u001b[0m\u001b[0mastype\u001b[0m\u001b[0;34m(\u001b[0m\u001b[0mnp\u001b[0m\u001b[0;34m.\u001b[0m\u001b[0mint8\u001b[0m\u001b[0;34m)\u001b[0m\u001b[0;34m\u001b[0m\u001b[0;34m\u001b[0m\u001b[0m\n\u001b[0m\u001b[1;32m      4\u001b[0m \u001b[0marr\u001b[0m\u001b[0;34m\u001b[0m\u001b[0;34m\u001b[0m\u001b[0m\n",
            "\u001b[0;31mValueError\u001b[0m: invalid literal for int() with base 10: 'hola'"
          ]
        }
      ]
    },
    {
      "cell_type": "markdown",
      "source": [
        "## **Dimensiones**\n",
        "scalar: dim = 0 Un solo dato o valor\n",
        "\n",
        "vector: dim = 1 Listas de Python\n",
        "\n",
        "matriz: dim = 2 Hoja de cálculo\n",
        "\n",
        "tensor: dim > 3 Series de tiempo o Imágenes"
      ],
      "metadata": {
        "id": "d4_t6hdZm1SV"
      }
    },
    {
      "cell_type": "code",
      "source": [
        "# Declarando un escalar.\n",
        "scalar = np.array(42)\n",
        "print(scalar)\n",
        "scalar.ndim"
      ],
      "metadata": {
        "id": "wUZVBlAprMp_",
        "colab": {
          "base_uri": "https://localhost:8080/"
        },
        "outputId": "12b8d34b-afbe-4a7b-c2e8-a38feebedc1c"
      },
      "execution_count": 26,
      "outputs": [
        {
          "output_type": "stream",
          "name": "stdout",
          "text": [
            "42\n"
          ]
        },
        {
          "output_type": "execute_result",
          "data": {
            "text/plain": [
              "0"
            ]
          },
          "metadata": {},
          "execution_count": 26
        }
      ]
    },
    {
      "cell_type": "code",
      "source": [
        "# Declarando un vector.\n",
        "vector = np.array([1, 2, 3])\n",
        "print(vector)\n",
        "vector.ndim"
      ],
      "metadata": {
        "colab": {
          "base_uri": "https://localhost:8080/"
        },
        "id": "c2unPCcHhw4W",
        "outputId": "22880026-720c-4bb1-84c7-507ff21b6edd"
      },
      "execution_count": 29,
      "outputs": [
        {
          "output_type": "stream",
          "name": "stdout",
          "text": [
            "[1 2 3]\n"
          ]
        },
        {
          "output_type": "execute_result",
          "data": {
            "text/plain": [
              "1"
            ]
          },
          "metadata": {},
          "execution_count": 29
        }
      ]
    },
    {
      "cell_type": "code",
      "source": [
        "# Declarando una matriz.\n",
        "matriz = np.array([[1, 2, 3], [4, 5, 6]])\n",
        "print(matriz)\n",
        "matriz.ndim"
      ],
      "metadata": {
        "colab": {
          "base_uri": "https://localhost:8080/"
        },
        "id": "Jq6TPXtPh6k9",
        "outputId": "2bc02448-7456-468c-8e0f-077d59bc663d"
      },
      "execution_count": 31,
      "outputs": [
        {
          "output_type": "stream",
          "name": "stdout",
          "text": [
            "[[1 2 3]\n",
            " [4 5 6]]\n"
          ]
        },
        {
          "output_type": "execute_result",
          "data": {
            "text/plain": [
              "2"
            ]
          },
          "metadata": {},
          "execution_count": 31
        }
      ]
    },
    {
      "cell_type": "code",
      "source": [
        "# Declarando un tensor.\n",
        "tensor = np.array([[[1, 2, 3], [4, 5, 6], [7, 8, 9], [10, 11, 12]],[[13, 13, 15], [16, 17, 18], [19, 20, 21], [22, 23, 24]]])\n",
        "print(tensor)\n",
        "tensor.ndim"
      ],
      "metadata": {
        "colab": {
          "base_uri": "https://localhost:8080/"
        },
        "id": "TyGxAlOOnMBh",
        "outputId": "78f0c39b-7f1f-4a0f-a1c3-ac46541e3463"
      },
      "execution_count": 33,
      "outputs": [
        {
          "output_type": "stream",
          "name": "stdout",
          "text": [
            "[[[ 1  2  3]\n",
            "  [ 4  5  6]\n",
            "  [ 7  8  9]\n",
            "  [10 11 12]]\n",
            "\n",
            " [[13 13 15]\n",
            "  [16 17 18]\n",
            "  [19 20 21]\n",
            "  [22 23 24]]]\n"
          ]
        },
        {
          "output_type": "execute_result",
          "data": {
            "text/plain": [
              "3"
            ]
          },
          "metadata": {},
          "execution_count": 33
        }
      ]
    },
    {
      "cell_type": "markdown",
      "source": [
        "### Agregar o eliminar dimensiones"
      ],
      "metadata": {
        "id": "SMhUU8Cun9pQ"
      }
    },
    {
      "cell_type": "code",
      "source": [
        "# Se puede definir el número de dimensiones desde la declaración del array\n",
        "vector = np.array([1, 2, 3], ndmin = 10)\n",
        "print(vector)\n",
        "vector.ndim"
      ],
      "metadata": {
        "colab": {
          "base_uri": "https://localhost:8080/"
        },
        "id": "jfD7zbUKn2Oy",
        "outputId": "09c04c85-1ea0-44ed-cc86-99d8fac3e5d8"
      },
      "execution_count": 35,
      "outputs": [
        {
          "output_type": "stream",
          "name": "stdout",
          "text": [
            "[[[[[[[[[[1 2 3]]]]]]]]]]\n"
          ]
        },
        {
          "output_type": "execute_result",
          "data": {
            "text/plain": [
              "10"
            ]
          },
          "metadata": {},
          "execution_count": 35
        }
      ]
    },
    {
      "cell_type": "code",
      "source": [
        "# Se pueden expandir dimensiones a los array ya existentes.\n",
        "# Axis = 0 hace refencia a las filas, mientras que axis = 1 a las columnas.\n",
        "expand = np.expand_dims(np.array([1, 2, 3]), axis = 0)\n",
        "print(expand)\n",
        "expand.ndim"
      ],
      "metadata": {
        "colab": {
          "base_uri": "https://localhost:8080/"
        },
        "id": "9tEySYtsoFdd",
        "outputId": "767d726e-0ea5-44b8-cb69-803619895f51"
      },
      "execution_count": 36,
      "outputs": [
        {
          "output_type": "stream",
          "name": "stdout",
          "text": [
            "[[1 2 3]]\n"
          ]
        },
        {
          "output_type": "execute_result",
          "data": {
            "text/plain": [
              "2"
            ]
          },
          "metadata": {},
          "execution_count": 36
        }
      ]
    },
    {
      "cell_type": "code",
      "source": [
        "# Remover/comprimir las dimensiones que no están siendo usadas.\n",
        "print(vector, vector.ndim)\n",
        "vector_2 = np.squeeze(vector)\n",
        "print(vector_2, vector_2.ndim)\n"
      ],
      "metadata": {
        "colab": {
          "base_uri": "https://localhost:8080/"
        },
        "id": "Nz-AP6ASohJB",
        "outputId": "cd799e9d-ede3-4e1c-9fde-5067687d602f"
      },
      "execution_count": 37,
      "outputs": [
        {
          "output_type": "stream",
          "name": "stdout",
          "text": [
            "[[[[[[[[[[1 2 3]]]]]]]]]] 10\n",
            "[1 2 3] 1\n"
          ]
        }
      ]
    },
    {
      "cell_type": "markdown",
      "source": [
        "### **Reto**\n",
        "1. Definir un tensor de 5 dimensiones\n",
        "2. Sumar una dimensión en algún eje\n",
        "3. Borrar dimensiones que no se usen"
      ],
      "metadata": {
        "id": "f8SExLe1szpE"
      }
    },
    {
      "cell_type": "code",
      "source": [
        "# 1) \n",
        "tensor5 = np.array([[[[1, 2],[3, 4]], [[5, 6],[7, 8]]], [[[1, 2],[3, 4]], [[5, 6],[7, 8]]]], ndmin = 5)\n",
        "print(tensor5, tensor5.ndim)"
      ],
      "metadata": {
        "colab": {
          "base_uri": "https://localhost:8080/"
        },
        "id": "v1Vn3cVLq4GI",
        "outputId": "91a6b163-05b9-4a28-8998-1c34b780aaad"
      },
      "execution_count": 41,
      "outputs": [
        {
          "output_type": "stream",
          "name": "stdout",
          "text": [
            "[[[[[1 2]\n",
            "    [3 4]]\n",
            "\n",
            "   [[5 6]\n",
            "    [7 8]]]\n",
            "\n",
            "\n",
            "  [[[1 2]\n",
            "    [3 4]]\n",
            "\n",
            "   [[5 6]\n",
            "    [7 8]]]]] 5\n"
          ]
        }
      ]
    },
    {
      "cell_type": "code",
      "source": [
        "# 2)\n",
        "expand5 = np.expand_dims(tensor5, axis=1)\n",
        "print(expand5, expand5.ndim)"
      ],
      "metadata": {
        "colab": {
          "base_uri": "https://localhost:8080/"
        },
        "id": "l7aiKAKFtgkK",
        "outputId": "9e2736a6-5411-4ebb-c4b1-b12caf4d9531"
      },
      "execution_count": 46,
      "outputs": [
        {
          "output_type": "stream",
          "name": "stdout",
          "text": [
            "[[[[[[1 2]\n",
            "     [3 4]]\n",
            "\n",
            "    [[5 6]\n",
            "     [7 8]]]\n",
            "\n",
            "\n",
            "   [[[1 2]\n",
            "     [3 4]]\n",
            "\n",
            "    [[5 6]\n",
            "     [7 8]]]]]] 6\n"
          ]
        }
      ]
    },
    {
      "cell_type": "code",
      "source": [
        "# 3)\n",
        "print(expand5, expand5.ndim)\n",
        "reduced5 = np.squeeze(expand5)\n",
        "print(reduced5, reduced5.ndim)"
      ],
      "metadata": {
        "colab": {
          "base_uri": "https://localhost:8080/"
        },
        "id": "0aeiiQEtumkf",
        "outputId": "c71eda88-71b8-4f4e-ac94-ee1bdde5a2c9"
      },
      "execution_count": 47,
      "outputs": [
        {
          "output_type": "stream",
          "name": "stdout",
          "text": [
            "[[[[[[1 2]\n",
            "     [3 4]]\n",
            "\n",
            "    [[5 6]\n",
            "     [7 8]]]\n",
            "\n",
            "\n",
            "   [[[1 2]\n",
            "     [3 4]]\n",
            "\n",
            "    [[5 6]\n",
            "     [7 8]]]]]] 6\n",
            "[[[[1 2]\n",
            "   [3 4]]\n",
            "\n",
            "  [[5 6]\n",
            "   [7 8]]]\n",
            "\n",
            "\n",
            " [[[1 2]\n",
            "   [3 4]]\n",
            "\n",
            "  [[5 6]\n",
            "   [7 8]]]] 4\n"
          ]
        }
      ]
    },
    {
      "cell_type": "code",
      "source": [
        ""
      ],
      "metadata": {
        "id": "eRv-79_EvcSv"
      },
      "execution_count": null,
      "outputs": []
    }
  ]
}